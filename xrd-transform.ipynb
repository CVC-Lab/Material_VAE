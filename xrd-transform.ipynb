{
 "cells": [
  {
   "cell_type": "code",
   "execution_count": 2,
   "metadata": {},
   "outputs": [],
   "source": [
    "import numpy as np\n",
    "import matplotlib.pyplot as plt\n",
    "from itertools import product\n",
    "import pickle\n",
    "import collections"
   ]
  },
  {
   "cell_type": "code",
   "execution_count": 2,
   "metadata": {},
   "outputs": [],
   "source": [
    "# taken from International Tables for Crystallography\n",
    "# order: a1, a2, a3, a4, b1, b2, b3, b4, c\n",
    "import json\n",
    "with open('./scattering_factors.json', 'r') as f:\n",
    "    scattering_factors = json.load(f)"
   ]
  },
  {
   "cell_type": "code",
   "execution_count": 3,
   "metadata": {},
   "outputs": [],
   "source": [
    "class Lattice:\n",
    "    def __init__(self, material, id):\n",
    "        \n",
    "        # ID\n",
    "        self.id = id\n",
    "        \n",
    "        # primitive cell parameters\n",
    "        self.a = material['param'][0]\n",
    "        self.b = material['param'][1]\n",
    "        self.c = material['param'][2]\n",
    "        self.alpha = material['param'][3]\n",
    "        self.beta = material['param'][4]\n",
    "        self.gamma = material['param'][5]\n",
    "        \n",
    "        # atomic sites\n",
    "        self.elements = [specie['label'] for specie in material['sites']]\n",
    "        self.fcoords = [specie['abc'] for specie in material['sites']]\n",
    "        \n",
    "    @property\n",
    "    def primitive_vectors(self):\n",
    "\n",
    "        angles = np.radians([self.alpha, self.beta, self.gamma])\n",
    "        cos_alpha, cos_beta, cos_gamma = np.cos(angles)\n",
    "        sin_alpha, sin_beta, sin_gamma = np.sin(angles)\n",
    "        \n",
    "        c1 = self.c * cos_beta\n",
    "        c2 = (self.c * (cos_alpha - (cos_beta * cos_gamma))) / sin_gamma\n",
    "\n",
    "        vector_a = np.array([self.a, 0, 0])\n",
    "        vector_b = np.array([self.b * cos_gamma, self.b * sin_gamma, 0])\n",
    "        vector_c = np.array([c1, c2, np.sqrt(self.c**2 - c1**2 - c2**2)])\n",
    "        \n",
    "        return np.vstack((vector_a, vector_b, vector_c))\n",
    "    \n",
    "    @property\n",
    "    def reciprocal_vectors(self):\n",
    "        return np.linalg.inv(self.primitive_vectors).T # * 2 * np.pi\n",
    "\n",
    "        "
   ]
  },
  {
   "cell_type": "code",
   "execution_count": 4,
   "metadata": {},
   "outputs": [],
   "source": [
    "class XRD(Lattice):\n",
    "    def __init__(self, material, id, wavelength):\n",
    "        super(XRD, self).__init__(material, id)\n",
    "        self.wavelength = wavelength\n",
    "    \n",
    "    @property\n",
    "    def points_in_sphere(self):\n",
    "        \n",
    "        radius = 2 / self.wavelength\n",
    "    \n",
    "        h_max = np.floor(radius / np.linalg.norm(self.reciprocal_vectors[0]))\n",
    "        k_max = np.floor(radius / np.linalg.norm(self.reciprocal_vectors[1]))\n",
    "        l_max = np.floor(radius / np.linalg.norm(self.reciprocal_vectors[2]))\n",
    "\n",
    "        h_list = np.arange(-h_max, h_max + 1)  \n",
    "        k_list = np.arange(-k_max, k_max + 1)\n",
    "        l_list = np.arange(-l_max, l_max + 1)\n",
    "\n",
    "        potential_hkl = np.asarray(list(product(h_list, k_list, l_list)))\n",
    "        potential_hkl_cart = np.dot(potential_hkl, self.reciprocal_vectors)\n",
    "\n",
    "        in_sphere = (np.abs(np.linalg.norm(potential_hkl_cart, axis=-1)) < radius)\n",
    "        hkl = potential_hkl[in_sphere]\n",
    "        d_hkl = np.linalg.norm(potential_hkl_cart[in_sphere], axis=-1)\n",
    "        \n",
    "        return hkl, d_hkl\n",
    "    \n",
    "    \n",
    "    @property\n",
    "    def unique_points_in_sphere(self):\n",
    "        \n",
    "        hkl, d_hkl = self.points_in_sphere\n",
    "        unique_d, idx, multiplicity = np.unique(d_hkl.round(5), return_index=True, return_counts=True)\n",
    "        unique_hkl = hkl[idx]\n",
    "        \n",
    "        return unique_hkl, unique_d, multiplicity\n",
    "\n",
    "    \n",
    "    @property\n",
    "    def peak_intensities(self):\n",
    "        \n",
    "        peaks = {\"two_theta\":[], \"intensity\":[]}\n",
    "        hkls, d_hkls, multiplicities = self.unique_points_in_sphere\n",
    "        \n",
    "        for hkl, d_hkl, multiplicity in zip(hkls, d_hkls, multiplicities):\n",
    "            if d_hkl != 0:\n",
    "                \n",
    "                # peak locations\n",
    "                theta = np.arcsin(self.wavelength * d_hkl / 2)\n",
    "                two_theta = 2 * np.degrees(theta)\n",
    "            \n",
    "                # structure factor\n",
    "                F_hkl = 0\n",
    "                for element, fcoord in zip(self.elements, self.fcoords):\n",
    "                    coeff = scattering_factors[element]\n",
    "                    f = coeff[-1] + np.sum([coeff[i] * np.exp(- coeff[i + 4] * (d_hkl / 2) ** 2) for i in range(4)])\n",
    "                    F_hkl += f * np.exp(2j * np.pi * np.dot(hkl, fcoord))\n",
    "\n",
    "                # intensity\n",
    "                lorentz_factor = (1 + np.cos(2 * theta) ** 2) / (np.sin(theta) ** 2 * np.cos(theta))\n",
    "                I_hkl = multiplicity * lorentz_factor * (F_hkl * F_hkl.conjugate()).real\n",
    "        \n",
    "                peaks[\"two_theta\"].append(two_theta)\n",
    "                peaks[\"intensity\"].append(I_hkl)\n",
    "        \n",
    "        return peaks"
   ]
  },
  {
   "cell_type": "code",
   "execution_count": 5,
   "metadata": {},
   "outputs": [],
   "source": [
    "# Import data\n",
    "\n",
    "rootdir = 'material_sites_no_xrd.pkl'\n",
    "\n",
    "wavelength = 0.1542 * 10 # Angstrom\n",
    "lattices = []\n",
    "xrds = []\n",
    "energies = []\n",
    "with open(rootdir, 'rb') as f:\n",
    "    material = pickle.load(f)\n",
    "    for i, k in enumerate(material.keys()):\n",
    "        lattices.append(Lattice(material[k], k))\n",
    "        xrds.append(XRD(material[k], k, wavelength))\n",
    "        energies.append(material[k]['energy'])"
   ]
  },
  {
   "cell_type": "code",
   "execution_count": 6,
   "metadata": {},
   "outputs": [
    {
     "name": "stdout",
     "output_type": "stream",
     "text": [
      "mp-1008676\n"
     ]
    },
    {
     "data": {
      "text/plain": [
       "<BarContainer object of 71 artists>"
      ]
     },
     "execution_count": 6,
     "metadata": {},
     "output_type": "execute_result"
    },
    {
     "data": {
      "image/png": "[encoded data removed]",
      "text/plain": [
       "<Figure size 432x288 with 1 Axes>"
      ]
     },
     "metadata": {
      "needs_background": "light"
     },
     "output_type": "display_data"
    }
   ],
   "source": [
    "# sanity check with a relatively simple material\n",
    "# https://legacy.materialsproject.org/materials/mp-1008676/\n",
    "\n",
    "test_xrd1 = xrds[20]\n",
    "print(test_xrd1.id)\n",
    "\n",
    "plt.bar(test_xrd1.peak_intensities['two_theta'], test_xrd1.peak_intensities['intensity'])"
   ]
  },
  {
   "cell_type": "code",
   "execution_count": 7,
   "metadata": {},
   "outputs": [
    {
     "name": "stdout",
     "output_type": "stream",
     "text": [
      "mp-13738\n"
     ]
    },
    {
     "data": {
      "text/plain": [
       "<BarContainer object of 1288 artists>"
      ]
     },
     "execution_count": 7,
     "metadata": {},
     "output_type": "execute_result"
    },
    {
     "data": {
      "image/png": "[encoded data removed]",
      "text/plain": [
       "<Figure size 432x288 with 1 Axes>"
      ]
     },
     "metadata": {
      "needs_background": "light"
     },
     "output_type": "display_data"
    }
   ],
   "source": [
    "# sanity check with a relatively complex material\n",
    "# https://legacy.materialsproject.org/materials/mp-13738/\n",
    "\n",
    "test_xrd2 = xrds[251]\n",
    "print(test_xrd2.id)\n",
    "\n",
    "plt.bar(test_xrd2.peak_intensities['two_theta'], test_xrd2.peak_intensities['intensity'])"
   ]
  },
  {
   "cell_type": "code",
   "execution_count": 4,
   "metadata": {},
   "outputs": [],
   "source": [
    "with open('material.pkl', 'rb') as f:\n",
    "    material = pickle.load(f)\n",
    "xrd = np.zeros((41100,1000)) \n",
    "for i, k in enumerate(material.keys()):\n",
    "    xrd[i,:] = material[k]['xrd'][0]"
   ]
  },
  {
   "cell_type": "code",
   "execution_count": 18,
   "metadata": {},
   "outputs": [
    {
     "name": "stdout",
     "output_type": "stream",
     "text": [
      "22\n"
     ]
    },
    {
     "data": {
      "image/png": "[encoded data removed]",
      "text/plain": [
       "<Figure size 432x288 with 1 Axes>"
      ]
     },
     "metadata": {
      "needs_background": "light"
     },
     "output_type": "display_data"
    }
   ],
   "source": [
    "plt.plot(xrd[20,:])\n",
    "\n",
    "from scipy.signal import find_peaks_cwt\n",
    "# in case we need these peak information\n",
    "def fine_peaks(x, window):\n",
    "    x_peaks = find_peaks_cwt(x, np.arange(1,5), noise_perc=0.01)\n",
    "    return x_peaks\n",
    "\n",
    "print(len(fine_peaks(xrd[20,:], 2)))"
   ]
  },
  {
   "cell_type": "code",
   "execution_count": 2,
   "metadata": {},
   "outputs": [
    {
     "name": "stdout",
     "output_type": "stream",
     "text": [
      "1.10.1\n"
     ]
    }
   ],
   "source": [
    "import torch\n",
    "import torch.nn as nn\n",
    "from torch.utils.data import Dataset\n",
    "from torchvision.transforms import ToTensor\n",
    "\n",
    "class XRDInverse(nn.Module):\n",
    "    def __init__(self, n_features, n_hidden, n_output):\n",
    "        self.input_dim = n_features\n",
    "        self.hidden_dim = n_hidden\n",
    "        self.output_dim = n_output\n",
    "        self.seq_model = nn.RNN(n_features, n_hidden, batch_first=True)\n",
    "        self.fc = nn.Linear(n_hidden, n_output)\n",
    "    \n",
    "    def forward(self, x):\n",
    "        x, _ = self.seq_model(x)\n",
    "        x = self.fc(x)\n",
    "        return x\n",
    "\n",
    "\n",
    "class XRDdataset(Dataset):\n",
    "    def __init__(self, xrd_items):\n",
    "        max_peak_length = 0\n",
    "        self.mat_ids = []\n",
    "        for k, v in xrd_items.items():\n",
    "            self.mat_ids.append(k)\n",
    "            max_peak_length = max(len(v['xrd_peaks']), max_peak_length)\n",
    "        \n",
    "        self.xrd_input = np.zeros(len(self.mat_ids), max_peak_length, 2)\n",
    "        self.xrd_output = np.zeros(len(self.mat_ids), max_peak_length, 10)\n",
    "        \n",
    "        for k, v in xrd_items.items():\n",
    "            self.xrd_input[k, :len(v['xrd_peaks']), 0] = v['xrd_peaks']\n",
    "            self.xrd_input[k, :len(v['xrd_peaks']), 1] = v['xrd_gt'][v['xrd_peaks']]\n",
    "            self.xrd_output[k, :len(v['xrd_peaks']), :] = v['xrd_parameters'][:len(v['xrd_peaks'])]\n",
    "            \n",
    "\n",
    "    def __len__(self):\n",
    "        return len(self.mat_ids)\n",
    "\n",
    "    def __getitem__(self, idx):\n",
    "        img_path = os.path.join(self.img_dir, self.img_labels.iloc[idx, 0])\n",
    "        image = read_image(img_path)\n",
    "        label = self.img_labels.iloc[idx, 1]\n",
    "        if self.transform:\n",
    "            image = self.transform(image)\n",
    "        if self.target_transform:\n",
    "            label = self.target_transform(label)\n",
    "        return image, label\n"
   ]
  },
  {
   "cell_type": "markdown",
   "metadata": {},
   "source": []
  }
 ],
 "metadata": {
  "kernelspec": {
   "display_name": "Python 3.9.9 64-bit ('.env')",
   "language": "python",
   "name": "python3"
  },
  "language_info": {
   "codemirror_mode": {
    "name": "ipython",
    "version": 3
   },
   "file_extension": ".py",
   "mimetype": "text/x-python",
   "name": "python",
   "nbconvert_exporter": "python",
   "pygments_lexer": "ipython3",
   "version": "3.9.9"
  },
  "vscode": {
   "interpreter": {
    "hash": "ed976582fd0a19464467f2178e59e5bcc4a69e63912eb1ff325483de91b925db"
   }
  }
 },
 "nbformat": 4,
 "nbformat_minor": 4
}
