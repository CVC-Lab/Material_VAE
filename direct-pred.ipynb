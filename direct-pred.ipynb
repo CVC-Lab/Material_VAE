{
 "cells": [
  {
   "cell_type": "code",
   "execution_count": 1,
   "metadata": {},
   "outputs": [],
   "source": [
    "import pandas as pd\n",
    "import numpy as np\n",
    "import matplotlib.pyplot as plt\n",
    "import os\n",
    "import pickle\n",
    "import torch \n",
    "from torch import nn\n",
    "from sklearn.preprocessing import StandardScaler, MinMaxScaler"
   ]
  },
  {
   "cell_type": "code",
   "execution_count": 2,
   "metadata": {},
   "outputs": [],
   "source": [
    "rootdir = './data'\n",
    "\n",
    "xrd = pd.read_pickle(os.path.join(rootdir,'xrd.txt'))\n",
    "params = pd.read_pickle(os.path.join(rootdir,'params.txt'))\n",
    "energy = pd.read_pickle(os.path.join(rootdir,'energy.txt'))\n",
    "\n",
    "print(xrd.shape)\n"
   ]
  },
  {
   "cell_type": "code",
   "execution_count": 3,
   "metadata": {},
   "outputs": [],
   "source": [
    "nrf = np.empty((41108, 6))\n",
    "\n",
    "for i, p in enumerate(params):\n",
    "    nrf[i][0] = 1\n",
    "    nrf[i][1] = (p[1]/p[0])**2\n",
    "    nrf[i][2] = (p[2]/p[0])**2\n",
    "    nrf[i][3] = (p[1]/p[0])*(p[2]/p[0])*np.cos(np.radians(p[3]))\n",
    "    nrf[i][4] = 1*(p[2]/p[0])*np.cos(np.radians(p[4]))\n",
    "    nrf[i][5] = 1*(p[1]/p[0])*np.cos(np.radians(p[5]))"
   ]
  },
  {
   "cell_type": "code",
   "execution_count": 4,
   "metadata": {},
   "outputs": [
    {
     "name": "stdout",
     "output_type": "stream",
     "text": [
      "energy max: 95.89070620500001 energy min: -0.035738539499999965\n"
     ]
    },
    {
     "data": {
      "text/plain": [
       "22"
      ]
     },
     "execution_count": 4,
     "metadata": {},
     "output_type": "execute_result"
    },
    {
     "data": {
      "image/png": "[encoded data removed]",
      "text/plain": [
       "<Figure size 432x288 with 1 Axes>"
      ]
     },
     "metadata": {
      "needs_background": "light"
     },
     "output_type": "display_data"
    }
   ],
   "source": [
    "max = np.amax(energy)\n",
    "min = np.amin(energy)\n",
    "print('energy max:', max, 'energy min:', min)\n",
    "\n",
    "plt.hist(energy, bins=20, range=[-0.001, 9])\n",
    "sum(i > 9 for i in energy)"
   ]
  }
 ],
 "metadata": {
  "kernelspec": {
   "display_name": "Python 3",
   "language": "python",
   "name": "python3"
  },
  "language_info": {
   "codemirror_mode": {
    "name": "ipython",
    "version": 3
   },
   "file_extension": ".py",
   "mimetype": "text/x-python",
   "name": "python",
   "nbconvert_exporter": "python",
   "pygments_lexer": "ipython3",
   "version": "3.8.5"
  }
 },
 "nbformat": 4,
 "nbformat_minor": 4
}
